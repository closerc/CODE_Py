{
 "cells": [
  {
   "cell_type": "code",
   "execution_count": 1,
   "metadata": {},
   "outputs": [],
   "source": [
    "import json\n",
    "import pygal\n",
    "import math\n",
    "from itertools import groupby"
   ]
  },
  {
   "cell_type": "code",
   "execution_count": 3,
   "metadata": {},
   "outputs": [],
   "source": [
    "filename = r'D:\\CodeField\\CODE_Py\\btc_close_2017_urllib.json'\n",
    "with open(filename) as f:\n",
    "    btc_data = json.load(f)"
   ]
  },
  {
   "cell_type": "code",
   "execution_count": 4,
   "metadata": {},
   "outputs": [],
   "source": [
    "dates = []\n",
    "months = []\n",
    "weeks = []\n",
    "weekdays = []\n",
    "close = []"
   ]
  },
  {
   "cell_type": "code",
   "execution_count": 5,
   "metadata": {},
   "outputs": [],
   "source": [
    "for btc_dict in btc_data:\n",
    "    dates.append(btc_dict['date'])\n",
    "    months.append(int(btc_dict['month']))\n",
    "    weeks.append(int(btc_dict['week']))\n",
    "    weekdays.append(btc_dict['weekday'])\n",
    "    close.append(int(float(btc_dict['close'])))"
   ]
  },
  {
   "cell_type": "code",
   "execution_count": 31,
   "metadata": {},
   "outputs": [
    {
     "name": "stdout",
     "output_type": "stream",
     "text": [
      "334\n",
      "[1, 1, 1, 1, 1, 1, 1, 1, 1, 1, 1, 1, 1, 1, 1, 1, 1, 1, 1, 1, 1, 1, 1, 1, 1, 1, 1, 1, 1, 1, 1, 2, 2, 2, 2, 2, 2, 2, 2, 2, 2, 2, 2, 2, 2, 2, 2, 2, 2, 2, 2, 2, 2, 2, 2, 2, 2, 2, 2, 3, 3, 3, 3, 3, 3, 3, 3, 3, 3, 3, 3, 3, 3, 3, 3, 3, 3, 3, 3, 3, 3, 3, 3, 3, 3, 3, 3, 3, 3, 3, 4, 4, 4, 4, 4, 4, 4, 4, 4, 4, 4, 4, 4, 4, 4, 4, 4, 4, 4, 4, 4, 4, 4, 4, 4, 4, 4, 4, 4, 4, 5, 5, 5, 5, 5, 5, 5, 5, 5, 5, 5, 5, 5, 5, 5, 5, 5, 5, 5, 5, 5, 5, 5, 5, 5, 5, 5, 5, 5, 5, 5, 6, 6, 6, 6, 6, 6, 6, 6, 6, 6, 6, 6, 6, 6, 6, 6, 6, 6, 6, 6, 6, 6, 6, 6, 6, 6, 6, 6, 6, 6, 7, 7, 7, 7, 7, 7, 7, 7, 7, 7, 7, 7, 7, 7, 7, 7, 7, 7, 7, 7, 7, 7, 7, 7, 7, 7, 7, 7, 7, 7, 7, 8, 8, 8, 8, 8, 8, 8, 8, 8, 8, 8, 8, 8, 8, 8, 8, 8, 8, 8, 8, 8, 8, 8, 8, 8, 8, 8, 8, 8, 8, 8, 9, 9, 9, 9, 9, 9, 9, 9, 9, 9, 9, 9, 9, 9, 9, 9, 9, 9, 9, 9, 9, 9, 9, 9, 9, 9, 9, 9, 9, 9, 10, 10, 10, 10, 10, 10, 10, 10, 10, 10, 10, 10, 10, 10, 10, 10, 10, 10, 10, 10, 10, 10, 10, 10, 10, 10, 10, 10, 10, 10, 10, 11, 11, 11, 11, 11, 11, 11, 11, 11, 11, 11, 11, 11, 11, 11, 11, 11, 11, 11, 11, 11, 11, 11, 11, 11, 11, 11, 11, 11, 11]\n"
     ]
    }
   ],
   "source": [
    "print(dates.index('2017-12-01'))\n",
    "print(months[:334])"
   ]
  },
  {
   "cell_type": "code",
   "execution_count": null,
   "metadata": {},
   "outputs": [],
   "source": [
    "xy_map = []\n",
    "idx_month = dates.index('2017-12-01')\n",
    "zipter = groupby(sorted(zip(months[:idx_month], close[:idx_month])), key=lambda _: _[0])\n",
    "for x, y in zipter:\n",
    "    y_list = [v for _, v in y]\n",
    "    xy_map.append([x, sum(y_list) / len(y_list)])\n",
    "\n",
    "print(xy_map)"
   ]
  },
  {
   "cell_type": "code",
   "execution_count": 27,
   "metadata": {},
   "outputs": [
    {
     "name": "stdout",
     "output_type": "stream",
     "text": [
      "(1, 2, 3, 4, 5, 6, 7, 8, 9, 10, 11)\n"
     ]
    }
   ],
   "source": [
    "x_unique, y_mean = [*zip(*xy_map)]\n",
    "print(x_unique)"
   ]
  },
  {
   "cell_type": "code",
   "execution_count": 1,
   "metadata": {},
   "outputs": [],
   "source": [
    "import os\n",
    "import xlrd"
   ]
  },
  {
   "cell_type": "code",
   "execution_count": 2,
   "metadata": {},
   "outputs": [],
   "source": [
    "file = xlrd.open_workbook(r'C:\\Users\\Administrator\\Desktop\\关键词12.31.xlsx')"
   ]
  },
  {
   "cell_type": "code",
   "execution_count": 3,
   "metadata": {},
   "outputs": [],
   "source": [
    "sheet = file.sheet_by_index(3)"
   ]
  },
  {
   "cell_type": "code",
   "execution_count": 8,
   "metadata": {},
   "outputs": [],
   "source": [
    "rows = sheet.nrows\n",
    "file_names = sheet.col_values(1, 1, rows+1)"
   ]
  },
  {
   "cell_type": "code",
   "execution_count": 9,
   "metadata": {},
   "outputs": [
    {
     "name": "stdout",
     "output_type": "stream",
     "text": [
      "['100cart.ph', '1buycart.ph', 'aliwell.tw', 'amireux.ph', 'aoke.th', 'aurorawell.vn', 'aweso.vn', 'bacony.th', 'beautywell.sg', 'bmai.my', 'bmai.ph', 'bohemia.vn', 'boingek.ph', 'buybest2.vn', 'buywins.tw', 'caoyuanstore.tw', 'ccing.ph', 'chaoyangmall.ph', 'cloudshop.ph', 'concon.th', 'cooltools.sg', 'cooltools.my', 'dahui.ph', 'dajrrhd.tw', 'ddhihi.vn', 'dificuu.sg', 'dificuu.th', 'dioo.my', 'dkkioau.vn', 'floorr.my', 'foreststore.th', 'grocerybazaar.th', 'grocerybazaar.ph', 'grocerybazaar.vn', 'haape.vn', 'haapeury.id', 'haichao.id', 'haijiemall.sg', 'hengli.th', 'hengli.ph', 'hhihi.id', 'hmeishop.sg', 'houglamn.vn', 'inspirexshop.ph', 'iuxishop.vn', 'jijaka.th', 'justgogo.tw', 'kaneb.id', 'kaobuy.ph', 'kokoa.my', 'lanqistore.th', 'lemen.id', 'lemendhk.ph', 'lhome.ph', 'lilishop.vn', 'macospice.th', 'meien.my', 'newlanrode.sg', 'ooidshop.my', 'owuhddnh.ph', 'rolan.th', 'rolans.sg', 'romanticshop.sg', 'rrianfo.ph', 'rrianfo.my', 'sinhopsa.sg', 'skejnojj.th', 'skejnojj.id', 'soxii.vn', 'sudi.th', 'sunnyhousess.th', 'supergoodsales.tw', 'superparis.vn', 'thooth.sg', 'thooth.my', 'thooth.vn', 'titishop12.vn', 'tominihouse.my', 'trendgogo.sg', 'trendgogo.ph', 'tutoushop.ph', 'ujewndju.ph', 'viviwins.sg', 'wowowi.vn', 'wuyuu.ph', 'wuyuu.th', 'xguli.sg', 'xinpin.th', 'xunb.my', 'xunb.vn', 'xunb.sg', 'yekastore.my', 'yekastore.th', 'yoaushop.tw', 'yohooo.th', 'youpin.ph', 'yuhenshop.sg', 'zhenl.ph', 'buybest1nv.br', 'uukendh.br', 'hohwow.br', 'swsww.br', 'focici.br', 'usihere.br', 'pagouke.co', 'nearbeauty.id', 'soxii.id', 'grant.id', 'treee.id', 'maib.ID', 'cooltools.my', 'xunb.my', 'skill.my', 'sunnyhousess.my', 'rolan.my', 'rubikcube.my', 'calinodesign.my', 'ppieenca.my', 'lhome.my', 'jiada.my', 'maib.my', 'dajrrhd.my', 'ufriend.ph', 'stylish365.ph', 'freemarket.ph', 'guli.ph', 'haichao.ph', 'mingxiu.ph', 'uukendh.ph', 'julylink.ph', 'sweetfree.ph', 'ypingliang.ph', 'xunb.ph', 'jiabo.sg', 'lhome.sg', 'floorr.sg', 'henye.sg', 'grocerybazaar.sg', '1buycart.sg', 'usihere.sg', 'nearbeauty.sg', 'buybest1.sg', 'meihe.sg', 'mabao.sg', 'allinit.th', 'mengy.th', 'bakelili.th', 'hanhan.th', 'windyons.th', 'granty.th', 'gobabywow.th', 'uukendh.vn', 'ebayst.vn', 'alwaysonline.vn', 'forest.vn', 'coo.vn', 'antactica.vn', 'bamaxis.vn', 'pkpkppp.br', 'hbhbhbhbb.br', 'fvfvfvffv.mx', 'swsww.mx', 'dfdfdfdf.mx']\n"
     ]
    }
   ],
   "source": [
    "print(file_names)"
   ]
  },
  {
   "cell_type": "code",
   "execution_count": 7,
   "metadata": {},
   "outputs": [
    {
     "name": "stdout",
     "output_type": "stream",
     "text": [
      "163\n"
     ]
    }
   ],
   "source": [
    "print(len(file_names))"
   ]
  },
  {
   "cell_type": "code",
   "execution_count": null,
   "metadata": {},
   "outputs": [],
   "source": []
  }
 ],
 "metadata": {
  "kernelspec": {
   "display_name": "Python 3",
   "language": "python",
   "name": "python3"
  },
  "language_info": {
   "codemirror_mode": {
    "name": "ipython",
    "version": 3
   },
   "file_extension": ".py",
   "mimetype": "text/x-python",
   "name": "python",
   "nbconvert_exporter": "python",
   "pygments_lexer": "ipython3",
   "version": "3.8.5"
  },
  "orig_nbformat": 4
 },
 "nbformat": 4,
 "nbformat_minor": 2
}
