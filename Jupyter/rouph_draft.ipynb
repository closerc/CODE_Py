{
 "cells": [
  {
   "cell_type": "code",
   "execution_count": 1,
   "metadata": {},
   "outputs": [],
   "source": [
    "import json\n",
    "import pygal\n",
    "import math\n",
    "from itertools import groupby"
   ]
  },
  {
   "cell_type": "code",
   "execution_count": 3,
   "metadata": {},
   "outputs": [],
   "source": [
    "filename = r'D:\\CodeField\\CODE_Py\\btc_close_2017_urllib.json'\n",
    "with open(filename) as f:\n",
    "    btc_data = json.load(f)"
   ]
  },
  {
   "cell_type": "code",
   "execution_count": 4,
   "metadata": {},
   "outputs": [],
   "source": [
    "dates = []\n",
    "months = []\n",
    "weeks = []\n",
    "weekdays = []\n",
    "close = []"
   ]
  },
  {
   "cell_type": "code",
   "execution_count": 5,
   "metadata": {},
   "outputs": [],
   "source": [
    "for btc_dict in btc_data:\n",
    "    dates.append(btc_dict['date'])\n",
    "    months.append(int(btc_dict['month']))\n",
    "    weeks.append(int(btc_dict['week']))\n",
    "    weekdays.append(btc_dict['weekday'])\n",
    "    close.append(int(float(btc_dict['close'])))"
   ]
  },
  {
   "cell_type": "code",
   "execution_count": 31,
   "metadata": {},
   "outputs": [
    {
     "name": "stdout",
     "output_type": "stream",
     "text": [
      "334\n",
      "[1, 1, 1, 1, 1, 1, 1, 1, 1, 1, 1, 1, 1, 1, 1, 1, 1, 1, 1, 1, 1, 1, 1, 1, 1, 1, 1, 1, 1, 1, 1, 2, 2, 2, 2, 2, 2, 2, 2, 2, 2, 2, 2, 2, 2, 2, 2, 2, 2, 2, 2, 2, 2, 2, 2, 2, 2, 2, 2, 3, 3, 3, 3, 3, 3, 3, 3, 3, 3, 3, 3, 3, 3, 3, 3, 3, 3, 3, 3, 3, 3, 3, 3, 3, 3, 3, 3, 3, 3, 3, 4, 4, 4, 4, 4, 4, 4, 4, 4, 4, 4, 4, 4, 4, 4, 4, 4, 4, 4, 4, 4, 4, 4, 4, 4, 4, 4, 4, 4, 4, 5, 5, 5, 5, 5, 5, 5, 5, 5, 5, 5, 5, 5, 5, 5, 5, 5, 5, 5, 5, 5, 5, 5, 5, 5, 5, 5, 5, 5, 5, 5, 6, 6, 6, 6, 6, 6, 6, 6, 6, 6, 6, 6, 6, 6, 6, 6, 6, 6, 6, 6, 6, 6, 6, 6, 6, 6, 6, 6, 6, 6, 7, 7, 7, 7, 7, 7, 7, 7, 7, 7, 7, 7, 7, 7, 7, 7, 7, 7, 7, 7, 7, 7, 7, 7, 7, 7, 7, 7, 7, 7, 7, 8, 8, 8, 8, 8, 8, 8, 8, 8, 8, 8, 8, 8, 8, 8, 8, 8, 8, 8, 8, 8, 8, 8, 8, 8, 8, 8, 8, 8, 8, 8, 9, 9, 9, 9, 9, 9, 9, 9, 9, 9, 9, 9, 9, 9, 9, 9, 9, 9, 9, 9, 9, 9, 9, 9, 9, 9, 9, 9, 9, 9, 10, 10, 10, 10, 10, 10, 10, 10, 10, 10, 10, 10, 10, 10, 10, 10, 10, 10, 10, 10, 10, 10, 10, 10, 10, 10, 10, 10, 10, 10, 10, 11, 11, 11, 11, 11, 11, 11, 11, 11, 11, 11, 11, 11, 11, 11, 11, 11, 11, 11, 11, 11, 11, 11, 11, 11, 11, 11, 11, 11, 11]\n"
     ]
    }
   ],
   "source": [
    "print(dates.index('2017-12-01'))\n",
    "print(months[:334])"
   ]
  },
  {
   "cell_type": "code",
   "execution_count": null,
   "metadata": {},
   "outputs": [],
   "source": [
    "xy_map = []\n",
    "idx_month = dates.index('2017-12-01')\n",
    "zipter = groupby(sorted(zip(months[:idx_month], close[:idx_month])), key=lambda _: _[0])\n",
    "for x, y in zipter:\n",
    "    y_list = [v for _, v in y]\n",
    "    xy_map.append([x, sum(y_list) / len(y_list)])\n",
    "\n",
    "print(xy_map)"
   ]
  },
  {
   "cell_type": "code",
   "execution_count": 27,
   "metadata": {},
   "outputs": [
    {
     "name": "stdout",
     "output_type": "stream",
     "text": [
      "(1, 2, 3, 4, 5, 6, 7, 8, 9, 10, 11)\n"
     ]
    }
   ],
   "source": [
    "x_unique, y_mean = [*zip(*xy_map)]\n",
    "print(x_unique)"
   ]
  },
  {
   "cell_type": "code",
   "execution_count": 1,
   "metadata": {},
   "outputs": [],
   "source": [
    "import os\n",
    "import xlrd"
   ]
  },
  {
   "cell_type": "code",
   "execution_count": 2,
   "metadata": {},
   "outputs": [],
   "source": [
    "file = xlrd.open_workbook(r'C:\\Users\\Administrator\\Desktop\\关键词12.31.xlsx')"
   ]
  },
  {
   "cell_type": "code",
   "execution_count": 3,
   "metadata": {},
   "outputs": [],
   "source": [
    "sheet = file.sheet_by_index(3)"
   ]
  },
  {
   "cell_type": "code",
   "execution_count": 8,
   "metadata": {},
   "outputs": [],
   "source": [
    "rows = sheet.nrows\n",
    "file_names = sheet.col_values(1, 1, rows+1)"
   ]
  },
  {
   "cell_type": "code",
   "execution_count": 9,
   "metadata": {},
   "outputs": [
    {
     "name": "stdout",
     "output_type": "stream",
     "text": [
      "['100cart.ph', '1buycart.ph', 'aliwell.tw', 'amireux.ph', 'aoke.th', 'aurorawell.vn', 'aweso.vn', 'bacony.th', 'beautywell.sg', 'bmai.my', 'bmai.ph', 'bohemia.vn', 'boingek.ph', 'buybest2.vn', 'buywins.tw', 'caoyuanstore.tw', 'ccing.ph', 'chaoyangmall.ph', 'cloudshop.ph', 'concon.th', 'cooltools.sg', 'cooltools.my', 'dahui.ph', 'dajrrhd.tw', 'ddhihi.vn', 'dificuu.sg', 'dificuu.th', 'dioo.my', 'dkkioau.vn', 'floorr.my', 'foreststore.th', 'grocerybazaar.th', 'grocerybazaar.ph', 'grocerybazaar.vn', 'haape.vn', 'haapeury.id', 'haichao.id', 'haijiemall.sg', 'hengli.th', 'hengli.ph', 'hhihi.id', 'hmeishop.sg', 'houglamn.vn', 'inspirexshop.ph', 'iuxishop.vn', 'jijaka.th', 'justgogo.tw', 'kaneb.id', 'kaobuy.ph', 'kokoa.my', 'lanqistore.th', 'lemen.id', 'lemendhk.ph', 'lhome.ph', 'lilishop.vn', 'macospice.th', 'meien.my', 'newlanrode.sg', 'ooidshop.my', 'owuhddnh.ph', 'rolan.th', 'rolans.sg', 'romanticshop.sg', 'rrianfo.ph', 'rrianfo.my', 'sinhopsa.sg', 'skejnojj.th', 'skejnojj.id', 'soxii.vn', 'sudi.th', 'sunnyhousess.th', 'supergoodsales.tw', 'superparis.vn', 'thooth.sg', 'thooth.my', 'thooth.vn', 'titishop12.vn', 'tominihouse.my', 'trendgogo.sg', 'trendgogo.ph', 'tutoushop.ph', 'ujewndju.ph', 'viviwins.sg', 'wowowi.vn', 'wuyuu.ph', 'wuyuu.th', 'xguli.sg', 'xinpin.th', 'xunb.my', 'xunb.vn', 'xunb.sg', 'yekastore.my', 'yekastore.th', 'yoaushop.tw', 'yohooo.th', 'youpin.ph', 'yuhenshop.sg', 'zhenl.ph', 'buybest1nv.br', 'uukendh.br', 'hohwow.br', 'swsww.br', 'focici.br', 'usihere.br', 'pagouke.co', 'nearbeauty.id', 'soxii.id', 'grant.id', 'treee.id', 'maib.ID', 'cooltools.my', 'xunb.my', 'skill.my', 'sunnyhousess.my', 'rolan.my', 'rubikcube.my', 'calinodesign.my', 'ppieenca.my', 'lhome.my', 'jiada.my', 'maib.my', 'dajrrhd.my', 'ufriend.ph', 'stylish365.ph', 'freemarket.ph', 'guli.ph', 'haichao.ph', 'mingxiu.ph', 'uukendh.ph', 'julylink.ph', 'sweetfree.ph', 'ypingliang.ph', 'xunb.ph', 'jiabo.sg', 'lhome.sg', 'floorr.sg', 'henye.sg', 'grocerybazaar.sg', '1buycart.sg', 'usihere.sg', 'nearbeauty.sg', 'buybest1.sg', 'meihe.sg', 'mabao.sg', 'allinit.th', 'mengy.th', 'bakelili.th', 'hanhan.th', 'windyons.th', 'granty.th', 'gobabywow.th', 'uukendh.vn', 'ebayst.vn', 'alwaysonline.vn', 'forest.vn', 'coo.vn', 'antactica.vn', 'bamaxis.vn', 'pkpkppp.br', 'hbhbhbhbb.br', 'fvfvfvffv.mx', 'swsww.mx', 'dfdfdfdf.mx']\n"
     ]
    }
   ],
   "source": [
    "print(file_names)"
   ]
  },
  {
   "cell_type": "code",
   "execution_count": 7,
   "metadata": {},
   "outputs": [
    {
     "name": "stdout",
     "output_type": "stream",
     "text": [
      "163\n"
     ]
    }
   ],
   "source": [
    "print(len(file_names))"
   ]
  },
  {
   "cell_type": "code",
   "execution_count": 2,
   "metadata": {},
   "outputs": [],
   "source": [
    "import os"
   ]
  },
  {
   "cell_type": "code",
   "execution_count": 3,
   "metadata": {},
   "outputs": [],
   "source": [
    "root_path = r'D:\\lazada月数据'"
   ]
  },
  {
   "cell_type": "code",
   "execution_count": 11,
   "metadata": {},
   "outputs": [
    {
     "name": "stdout",
     "output_type": "stream",
     "text": [
      "D:\\lazada月数据\\AH\\AH-PH\\852cf5f2-1763-4d98-a20b-1bed5f393997.xlsx\n",
      "No file\n",
      "D:\\lazada月数据\\BEST\\BEST-PH\\b9bf3ab7-7606-4734-8a4e-40de8238f19f.xlsx\n",
      "No file\n",
      "D:\\lazada月数据\\BEST\\BEST-TH\\6d8a51b6-ee8f-4b02-a8b3-e95e0203a834.xlsx\n",
      "No file\n",
      "D:\\lazada月数据\\COME\\COME-MY\\32c2de9c-4f57-473b-b91c-0b0f0fcbaecc.xlsx\n",
      "No file\n",
      "D:\\lazada月数据\\COME\\COME-PH\\6a1fecbd-8d45-4bbe-a509-6cb6877bdd74.xlsx\n",
      "No file\n",
      "D:\\lazada月数据\\COME\\COME-TH\\0595f21e-3bd5-4215-a62e-bf651a48f845.xlsx\n",
      "No file\n",
      "D:\\lazada月数据\\DEET\\DEET-MY\\7f7b2c35-3407-40cb-ac78-440bc52833a9.xlsx\n",
      "No file\n",
      "D:\\lazada月数据\\DEET\\DEET-PH\\a6687c62-80c5-4ce5-bce6-df76da22f77c.xlsx\n",
      "No file\n",
      "D:\\lazada月数据\\DUO\\DUO-MY\\426e02a2-2289-48e4-ba70-35d6286e1f0f.xlsx\n",
      "No file\n",
      "D:\\lazada月数据\\DUO\\DUO-PH\\97bf921d-a0f0-404b-8781-b9941bc5e425.xlsx\n",
      "No file\n",
      "D:\\lazada月数据\\ELE\\ELE-PH\\9bc27348-72b0-48d1-ae61-0d532f8e29c7.xlsx\n",
      "No file\n",
      "D:\\lazada月数据\\EMINC\\EMINC-PH\\488ac0bd-fd80-4f02-b57f-0ee7c9a5ef2d.xlsx\n",
      "No file\n",
      "D:\\lazada月数据\\GLOB\\GLOB-MY\\8d33a4b4-ff45-4d96-a604-c2b1146f9bdf.xlsx\n",
      "No file\n",
      "D:\\lazada月数据\\JUST\\JUST-MY\\2c8f0be4-5b54-4b37-b69b-c4488963f12b.xlsx\n",
      "No file\n",
      "No file\n",
      "D:\\lazada月数据\\LFIN\\LFIN-VN\\cf7bfad3-184e-4dca-987e-f91786302c79.xlsx\n",
      "No file\n",
      "D:\\lazada月数据\\MAEL\\MAEL-PH\\e4791c15-603d-46bb-a9c0-f0437cea11d3.xlsx\n",
      "D:\\lazada月数据\\MXIN\\MXIN-PH\\8e793b69-69cd-476d-80d2-0982636d98a1.xlsx\n",
      "No file\n",
      "D:\\lazada月数据\\MXUELE\\MXUELE-MY\\240ef213-2bbb-4ba7-a0b4-800bde96237a.xlsx\n",
      "No file\n",
      "D:\\lazada月数据\\MXUELE\\MXUELE-PH\\88b3b39a-c92b-4eea-8190-237b87e14cdc.xlsx\n",
      "No file\n",
      "D:\\lazada月数据\\MXUELE\\MXUELE-TH\\2b9b16e9-3a91-4812-8d8a-f39fec635cd5.xlsx\n",
      "No file\n",
      "D:\\lazada月数据\\PRE\\PRE-PH\\1b85c438-5f57-4652-84c5-c38b1783734c.xlsx\n",
      "No file\n",
      "No file\n",
      "D:\\lazada月数据\\PRE\\PRE-TH\\c258ff68-8891-47ba-b60f-11386a8502d4.xlsx\n",
      "No file\n",
      "D:\\lazada月数据\\QIAN\\QIAN-PH\\fa591673-4a15-4155-bd1b-45187b1bf2e1.xlsx\n",
      "D:\\lazada月数据\\REUNC\\REUNC-PH\\3c3d9f67-d099-4eac-b3d9-bb5f80ce86b2.xlsx\n",
      "No file\n",
      "D:\\lazada月数据\\RONG\\RONG-PH\\245a3335-cce8-4362-95b0-7aac25d49fb9.xlsx\n",
      "No file\n",
      "D:\\lazada月数据\\RONG\\RONG-TH\\581121d3-869e-46ea-85cb-c35281642b00.xlsx\n",
      "No file\n",
      "D:\\lazada月数据\\SAN\\SAN-PH\\764b0efc-4971-4197-8cd7-db11ff757d7b.xlsx\n",
      "No file\n",
      "No file\n",
      "D:\\lazada月数据\\SHAN\\SHAN-PH\\d7de988b-78a4-4a72-bed2-554fd69d8ed3.xlsx\n",
      "D:\\lazada月数据\\SHUXI\\SHUXI-TH\\3e389805-a73f-4f70-b0c7-1e351634dba2.xlsx\n",
      "No file\n",
      "D:\\lazada月数据\\SUGAR\\SUGAR-PH\\9175f376-66cb-4fd1-88c5-057da665c4ca.xlsx\n",
      "No file\n",
      "No file\n",
      "D:\\lazada月数据\\SWEE\\SWEE-MY\\f50580ad-b548-4c58-9dde-bf6c7f48b162.xlsx\n",
      "D:\\lazada月数据\\TOOL\\TOOL-PH\\6e6943be-92c7-4bac-aa5f-69631a919113.xlsx\n",
      "No file\n",
      "D:\\lazada月数据\\TOOL\\TOOL-TH\\7c9c2ea0-d075-4fdf-afad-dfbe54a47d33.xlsx\n",
      "No file\n",
      "D:\\lazada月数据\\TOUE\\TOUE-VN\\0cd2025e-a18b-43c5-9fce-a499b3c91c41.xlsx\n",
      "No file\n",
      "D:\\lazada月数据\\VONLU\\VONLU-PH\\1db16fb9-37b8-488d-bd49-58e8c1ea9bcd.xlsx\n",
      "No file\n",
      "D:\\lazada月数据\\VONLU\\VONLU-TH\\7f6f3e15-2679-4896-b715-b6fa9ceecb4f.xlsx\n",
      "No file\n",
      "D:\\lazada月数据\\WIL\\WIL-PH\\73f92ae8-307c-45f0-93b5-15e5a3135dc1.xlsx\n",
      "No file\n",
      "No file\n",
      "D:\\lazada月数据\\WIL\\WIL-TH\\fc55561d-8b50-49ed-a4f9-32adacc157b5.xlsx\n",
      "D:\\lazada月数据\\YFAMILY\\YFAMILY-TH\\2992b85b-b5da-4961-929f-78118d199e9b.xlsx\n",
      "No file\n",
      "D:\\lazada月数据\\YGLASSES\\YGLASSES-TH\\b842a5a4-c821-43ad-843c-c9202cb953ab.xlsx\n",
      "No file\n",
      "No file\n",
      "D:\\lazada月数据\\YLED\\YLED-TH\\c6b3371d-f94e-4efd-9504-3be4ec96b913.xlsx\n",
      "D:\\lazada月数据\\YOSI\\YOSI-PH\\9bbe3608-4307-4004-a05d-d84b09af48f5.xlsx\n",
      "No file\n",
      "No file\n",
      "D:\\lazada月数据\\YPEACH\\YPEACH-TH\\c046b99c-9873-4d0f-be09-0f232e22253a.xlsx\n",
      "No file\n",
      "D:\\lazada月数据\\YSMALL\\YSMALL-TH\\fed190c2-e51d-469f-99db-0e95a5146261.xlsx\n",
      "D:\\lazada月数据\\YSMART\\YSMART-TH\\558e65ab-11b2-4e6b-8be3-c6586eb519e1.xlsx\n",
      "No file\n",
      "D:\\lazada月数据\\YSPORTING\\YSPORTING-TH\\54070ec8-3bb2-4345-8836-80a7119ea4c5.xlsx\n",
      "No file\n",
      "No file\n",
      "D:\\lazada月数据\\YSUPPER\\YSUPPER-TH\\d70c6064-15d2-4851-85e5-5397078a04ab.xlsx\n",
      "No file\n",
      "D:\\lazada月数据\\YSUPPLIES\\YSUPPLIES-TH\\f8435993-69aa-4a20-ac6e-fecc174f5532.xlsx\n",
      "D:\\lazada月数据\\YSWIMMING\\YSWIMMING-TH\\b11ac4a0-ee57-456b-bdaa-6d21c075f8dc.xlsx\n",
      "No file\n",
      "No file\n",
      "D:\\lazada月数据\\YUANC\\YUANC-TH\\d45e041f-5d90-49dc-b1d2-834ba8ab098a.xlsx\n"
     ]
    }
   ],
   "source": [
    "for root, dirs, files in os.walk(root_path):\n",
    "        shop_station = root.split(\"\\\\\")[-1]\n",
    "        shop = shop_station.split('-')[0]\n",
    "        for file in files:\n",
    "            if '$' not in file:\n",
    "                if 'xlsx' in file:\n",
    "                    filename = root_path + '\\\\' + shop + '\\\\' + shop_station + '\\\\' + file\n",
    "                    print(filename)\n",
    "                else:\n",
    "                     print(\"No file\")"
   ]
  },
  {
   "cell_type": "code",
   "execution_count": 5,
   "metadata": {},
   "outputs": [
    {
     "data": {
      "text/plain": [
       "['Business Advisor - Dashboard - Key Metrics.xls',\n",
       " 'd45e041f-5d90-49dc-b1d2-834ba8ab098a.xlsx']"
      ]
     },
     "execution_count": 5,
     "metadata": {},
     "output_type": "execute_result"
    }
   ],
   "source": [
    "files"
   ]
  },
  {
   "cell_type": "code",
   "execution_count": null,
   "metadata": {},
   "outputs": [],
   "source": []
  }
 ],
 "metadata": {
  "kernelspec": {
   "display_name": "Python 3",
   "language": "python",
   "name": "python3"
  },
  "language_info": {
   "codemirror_mode": {
    "name": "ipython",
    "version": 3
   },
   "file_extension": ".py",
   "mimetype": "text/x-python",
   "name": "python",
   "nbconvert_exporter": "python",
   "pygments_lexer": "ipython3",
   "version": "3.11.4"
  },
  "orig_nbformat": 4
 },
 "nbformat": 4,
 "nbformat_minor": 2
}
