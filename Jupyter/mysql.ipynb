{
 "cells": [
  {
   "cell_type": "code",
   "execution_count": 1,
   "metadata": {},
   "outputs": [],
   "source": [
    "import pymysql"
   ]
  },
  {
   "cell_type": "code",
   "execution_count": 2,
   "metadata": {},
   "outputs": [],
   "source": [
    "# 连接数据库\n",
    "db = pymysql.connect(\n",
    "    user='root',\n",
    "    password='Closer42954856',\n",
    "    port=3306,\n",
    "    host='localhost',\n",
    "    database='mrsoft'\n",
    ")"
   ]
  },
  {
   "cell_type": "code",
   "execution_count": 3,
   "metadata": {},
   "outputs": [],
   "source": [
    "# 创建游标对象\n",
    "cursor = db.cursor()"
   ]
  },
  {
   "cell_type": "code",
   "execution_count": null,
   "metadata": {},
   "outputs": [],
   "source": [
    "# 执行SQL语句\n",
    "cursor.execute('DROP TABLE IF EXISTS books')"
   ]
  },
  {
   "cell_type": "code",
   "execution_count": null,
   "metadata": {},
   "outputs": [],
   "source": [
    "# 使用预处理语句创建表\n",
    "sql = \"\"\"\n",
    "CREATE TABLE books(\n",
    "  id int(8) NOT NULL AUTO_INCREMENT,\n",
    "  name varchar(50) NOT NULL,\n",
    "  category varchar(50) NOT NULL,\n",
    "  price decimal(10, 2) DEFAULT NULL,\n",
    "  publish_time date DEFAULT NULL,\n",
    "  PRIMARY KEY(id)\n",
    ") ENGINE=MyISAM AUTO_INCREMENT=1 DEFAULT CHARSET=utf8;\n",
    "\"\"\"\n",
    "cursor.execute(sql)"
   ]
  },
  {
   "cell_type": "code",
   "execution_count": 4,
   "metadata": {},
   "outputs": [],
   "source": [
    "# 数据列表\n",
    "data = [(\"零基础学Python\", 'Python', '79.80', '2018-5-20'),\n",
    "        (\"Python从入门到精通\", 'Python', '69.80', '2018-6-18'),\n",
    "        (\"零基础学PHP\", 'PHP', '69.80', '2017-5-21'),\n",
    "        (\"PHP项目开发实践入门\", 'PHP', '79.80', '2016-5-21'),\n",
    "        (\"零基础学Java\", 'Java', '69.80', '2017-5-21'),]"
   ]
  },
  {
   "cell_type": "code",
   "execution_count": 5,
   "metadata": {},
   "outputs": [],
   "source": [
    "try:\n",
    "    cursor.executemany(\"insert into books(name, category, price, publish_time) values(%s, %s, %s, %s)\", data)\n",
    "    # 提交数据\n",
    "    db.commit()\n",
    "except:\n",
    "    # 发生错误时回滚\n",
    "    db.rollback()"
   ]
  },
  {
   "cell_type": "code",
   "execution_count": 6,
   "metadata": {},
   "outputs": [],
   "source": [
    "db.close()"
   ]
  },
  {
   "cell_type": "code",
   "execution_count": null,
   "metadata": {},
   "outputs": [],
   "source": []
  }
 ],
 "metadata": {
  "kernelspec": {
   "display_name": "Python 3",
   "language": "python",
   "name": "python3"
  },
  "language_info": {
   "codemirror_mode": {
    "name": "ipython",
    "version": 3
   },
   "file_extension": ".py",
   "mimetype": "text/x-python",
   "name": "python",
   "nbconvert_exporter": "python",
   "pygments_lexer": "ipython3",
   "version": "3.8.5"
  },
  "orig_nbformat": 4
 },
 "nbformat": 4,
 "nbformat_minor": 2
}
